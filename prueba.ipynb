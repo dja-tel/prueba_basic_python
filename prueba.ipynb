{
 "cells": [
  {
   "cell_type": "markdown",
   "metadata": {},
   "source": [
    "Con una lista de números enteros lo que tienes que hacer un método que devuelva otra lista que este ordenada de menor a mayor y no devuelva repetidos.\n",
    "\n",
    "Para ello no se utilizarán métodos de ordenación de Python ni de otra librería, evitando listas y diccionarios anidados (salvo para duplicar objeto)."
   ]
  },
  {
   "cell_type": "code",
   "metadata": {},
   "source": [
    "lista_1  = [8,6,2,9,8,2,3,7,1,4,4,9]"
   ],
   "outputs": [],
   "execution_count": null
  },
  {
   "cell_type": "code",
   "metadata": {},
   "source": [
    "def ordenar_lista(lista: list) -> list:\n",
    "    pass"
   ],
   "outputs": [],
   "execution_count": null
  },
  {
   "cell_type": "code",
   "metadata": {},
   "source": [
    "print(lista_1)\n",
    "\n",
    "lista_aux = sorted(set(lista_1))\n",
    "print(lista_aux)\n",
    "\n",
    "lista_2 = ordenar_lista(lista_1)\n",
    "print(lista_2)\n",
    "\n",
    "if lista_2 == lista_aux:\n",
    "    print(\"OK\")\n",
    "else:\n",
    "    print(\"Algo no salio bien\")"
   ],
   "outputs": [],
   "execution_count": null
  },
  {
   "cell_type": "code",
   "metadata": {},
   "source": [
    "lista_2.append(10)\n",
    "\n",
    "if lista_2 != lista_aux:\n",
    "    print(\"OK\")\n",
    "else:\n",
    "    print(\"Algo no salio bien\")\n",
    "    \n",
    "print(lista_1)\n",
    "print(lista_2)\n",
    "print(lista_aux)"
   ],
   "outputs": [],
   "execution_count": null
  },
  {
   "cell_type": "markdown",
   "metadata": {},
   "source": [
    "Ahora con un diccionario con valores de distintos tipos necesitamos un método que devuelva una lista con listas de elementos agrupados por tipos.\n",
    "\n",
    "Para ello no se utilizarán métodos de ordenación ni de clasificación de Python ni de otra librería, evitando listas y diccionarios anidados."
   ]
  },
  {
   "cell_type": "code",
   "metadata": {},
   "source": [
    "diccionario = {\"a\": 1, \"b\": \"hola\", \"c\": \"adios\", \"d\": [1, 2, 3], \"e\": 5, \"f\": {\"z\": \"hola\"}, \"g\": \"casa\", \"h\": [11, 21, 31], \"i\": [22, 32, 32], \"j\": {\"x\": \"adios\"}, \"k\":1}\n",
    "\n",
    "a = [1, 5]\n",
    "b = [\"hola\", \"adios\", \"casa\"]\n",
    "c = [[1, 2, 3], [11, 21, 31], [22, 32, 32]]\n",
    "d = [{\"z\": \"hola\"}, {\"x\": \"adios\"}]"
   ],
   "outputs": [],
   "execution_count": null
  },
  {
   "cell_type": "code",
   "metadata": {},
   "source": [
    "def clasifica_valores(data: dict) -> list:\n",
    "     pass\n"
   ],
   "outputs": [],
   "execution_count": null
  },
  {
   "cell_type": "code",
   "metadata": {},
   "source": [
    "clasificacion = clasifica_valores(diccionario)\n",
    "\n",
    "if a in clasificacion: \n",
    "    print(\"OK A\")\n",
    "if b in clasificacion:\n",
    "    print(\"OK B\")\n",
    "if c in clasificacion:\n",
    "    print(\"OK C\")            \n",
    "if d in clasificacion:\n",
    "    print(\"OK D\")\n",
    "\n",
    "if a not in clasificacion or b not in clasificacion or c not in clasificacion or d not in clasificacion:\n",
    "    print(\"Algo no salio bien\")\n",
    "    \n",
    "print(clasificacion)"
   ],
   "outputs": [],
   "execution_count": null
  }
 ],
 "metadata": {
  "kernelspec": {
   "display_name": "Python 3",
   "language": "python",
   "name": "python3"
  },
  "language_info": {
   "codemirror_mode": {
    "name": "ipython",
    "version": 3
   },
   "file_extension": ".py",
   "mimetype": "text/x-python",
   "name": "python",
   "nbconvert_exporter": "python",
   "pygments_lexer": "ipython3",
   "version": "3.10.16"
  }
 },
 "nbformat": 4,
 "nbformat_minor": 2
}
