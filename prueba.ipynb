{
 "cells": [
  {
   "cell_type": "markdown",
   "metadata": {},
   "source": [
    "Con una lista de números enteros lo que tienes que hacer un método que devuelva otra lista que este ordenada de menor a mayor y no devuelva repetidos.\n",
    "\n",
    "Para ello no se utilizarán métodos de ordenación de Python ni de otra librería, evitando listas y diccionarios anidados (salvo para duplicar objeto)."
   ]
  },
  {
   "cell_type": "code",
   "execution_count": 1,
   "metadata": {},
   "outputs": [],
   "source": [
    "lista_1  = [8,6,2,9,8,2,3,7,1,4,4,9]"
   ]
  },
  {
   "cell_type": "code",
   "execution_count": 2,
   "metadata": {},
   "outputs": [],
   "source": [
    "def ordenar_lista(lista: list) -> list:\n",
    "    pass"
   ]
  },
  {
   "cell_type": "code",
   "execution_count": 3,
   "metadata": {},
   "outputs": [
    {
     "name": "stdout",
     "output_type": "stream",
     "text": [
      "[8, 6, 2, 9, 8, 2, 3, 7, 1, 4, 4, 9]\n",
      "[1, 2, 3, 4, 6, 7, 8, 9]\n",
      "None\n",
      "Algo no salio bien\n"
     ]
    }
   ],
   "source": [
    "print(lista_1)\n",
    "\n",
    "lista_aux = sorted(set(lista_1))\n",
    "print(lista_aux)\n",
    "\n",
    "lista_2 = ordenar_lista(lista_1)\n",
    "print(lista_2)\n",
    "\n",
    "if lista_2 == lista_aux:\n",
    "    print(\"OK\")\n",
    "else:\n",
    "    print(\"Algo no salio bien\")"
   ]
  },
  {
   "cell_type": "code",
   "execution_count": 4,
   "metadata": {},
   "outputs": [
    {
     "ename": "AttributeError",
     "evalue": "'NoneType' object has no attribute 'append'",
     "output_type": "error",
     "traceback": [
      "\u001b[0;31m---------------------------------------------------------------------------\u001b[0m",
      "\u001b[0;31mAttributeError\u001b[0m                            Traceback (most recent call last)",
      "Cell \u001b[0;32mIn[4], line 1\u001b[0m\n\u001b[0;32m----> 1\u001b[0m \u001b[43mlista_2\u001b[49m\u001b[38;5;241;43m.\u001b[39;49m\u001b[43mappend\u001b[49m(\u001b[38;5;241m10\u001b[39m)\n\u001b[1;32m      3\u001b[0m \u001b[38;5;28;01mif\u001b[39;00m lista_2 \u001b[38;5;241m!=\u001b[39m lista_aux:\n\u001b[1;32m      4\u001b[0m     \u001b[38;5;28mprint\u001b[39m(\u001b[38;5;124m\"\u001b[39m\u001b[38;5;124mOK\u001b[39m\u001b[38;5;124m\"\u001b[39m)\n",
      "\u001b[0;31mAttributeError\u001b[0m: 'NoneType' object has no attribute 'append'"
     ]
    }
   ],
   "source": [
    "lista_2.append(10)\n",
    "\n",
    "if lista_2 != lista_aux:\n",
    "    print(\"OK\")\n",
    "else:\n",
    "    print(\"Algo no salio bien\")\n",
    "    \n",
    "print(lista_1)\n",
    "print(lista_2)\n",
    "print(lista_aux)"
   ]
  },
  {
   "cell_type": "markdown",
   "metadata": {},
   "source": [
    "Ahora con un diccionario con valores de distintos tipos necesitamos un método que devuelva una lista con listas de elementos agrupados por tipos.\n",
    "\n",
    "Para ello no se utilizarán métodos de ordenación ni de clasificación de Python ni de otra librería, evitando listas y diccionarios anidados."
   ]
  },
  {
   "cell_type": "code",
   "execution_count": 59,
   "metadata": {},
   "outputs": [],
   "source": [
    "diccionario = {\"a\": 1, \"b\": \"hola\", \"c\": \"adios\", \"d\": [1, 2, 3], \"e\": 5, \"f\": {\"z\": \"hola\"}, \"g\": \"casa\", \"h\": [11, 21, 31], \"i\": [22, 32, 32], \"j\": {\"x\": \"adios\"}, \"k\":1}\n",
    "\n",
    "a = [1, 5]\n",
    "b = [\"hola\", \"adios\", \"casa\"]\n",
    "c = [[1, 2, 3], [11, 21, 31], [22, 32, 32]]\n",
    "d = [{\"z\": \"hola\"}, {\"x\": \"adios\"}]"
   ]
  },
  {
   "cell_type": "code",
   "execution_count": 62,
   "metadata": {},
   "outputs": [],
   "source": [
    "def clasifica_valores(data: dict) -> list:\n",
    "     pass\n"
   ]
  },
  {
   "cell_type": "code",
   "execution_count": 65,
   "metadata": {},
   "outputs": [
    {
     "name": "stdout",
     "output_type": "stream",
     "text": [
      "OK A\n",
      "OK B\n",
      "OK C\n",
      "OK D\n",
      "[[1, 5], ['hola', 'adios', 'casa'], [[1, 2, 3], [11, 21, 31], [22, 32, 32]], [{'z': 'hola'}, {'x': 'adios'}]]\n"
     ]
    }
   ],
   "source": [
    "clasificacion = clasifica_valores(diccionario)\n",
    "\n",
    "if a in clasificacion: \n",
    "    print(\"OK A\")\n",
    "if b in clasificacion:\n",
    "    print(\"OK B\")\n",
    "if c in clasificacion:\n",
    "    print(\"OK C\")            \n",
    "if d in clasificacion:\n",
    "    print(\"OK D\")\n",
    "\n",
    "if a not in clasificacion or b not in clasificacion or c not in clasificacion or d not in clasificacion:\n",
    "    print(\"Algo no salio bien\")\n",
    "    \n",
    "print(clasificacion)"
   ]
  }
 ],
 "metadata": {
  "kernelspec": {
   "display_name": "Python 3",
   "language": "python",
   "name": "python3"
  },
  "language_info": {
   "codemirror_mode": {
    "name": "ipython",
    "version": 3
   },
   "file_extension": ".py",
   "mimetype": "text/x-python",
   "name": "python",
   "nbconvert_exporter": "python",
   "pygments_lexer": "ipython3",
   "version": "3.10.16"
  }
 },
 "nbformat": 4,
 "nbformat_minor": 2
}
